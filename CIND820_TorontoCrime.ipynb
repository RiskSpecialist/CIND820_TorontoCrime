{
  "nbformat": 4,
  "nbformat_minor": 0,
  "metadata": {
    "colab": {
      "provenance": [],
      "mount_file_id": "1JpwiRRjyfipBVIk4AfQbAfAvZ6zovAyp",
      "authorship_tag": "ABX9TyPB+ow4cZt8/4G/XroCOpEi",
      "include_colab_link": true
    },
    "kernelspec": {
      "name": "python3",
      "display_name": "Python 3"
    },
    "language_info": {
      "name": "python"
    }
  },
  "cells": [
    {
      "cell_type": "markdown",
      "metadata": {
        "id": "view-in-github",
        "colab_type": "text"
      },
      "source": [
        "<a href=\"https://colab.research.google.com/github/RiskSpecialist/CIND820_TorontoCrime/blob/main/CIND820_TorontoCrime.ipynb\" target=\"_parent\"><img src=\"https://colab.research.google.com/assets/colab-badge.svg\" alt=\"Open In Colab\"/></a>"
      ]
    },
    {
      "cell_type": "code",
      "execution_count": 1,
      "metadata": {
        "id": "jRZ1MqN63DiG"
      },
      "outputs": [],
      "source": [
        "import pandas as pd\n",
        "import zipfile\n",
        "import io\n",
        "import requests"
      ]
    },
    {
      "cell_type": "code",
      "source": [
        "# URLs to the homicide and non-homicide data\n",
        "homicide_url = 'https://raw.githubusercontent.com/RiskSpecialist/CIND820_TorontoCrime/main/Homicides_Open_Data_ASR_RC_TBL_002_4450242736547431910.csv'\n",
        "non_homicide_zip_url = 'https://raw.githubusercontent.com/RiskSpecialist/CIND820_TorontoCrime/main/Major_Crime_Indicators_Open_Data_6927126107499016617.zip'"
      ],
      "metadata": {
        "id": "MaFN66aedwBE"
      },
      "execution_count": 2,
      "outputs": []
    },
    {
      "cell_type": "code",
      "source": [
        "# Load homicide data\n",
        "homicide_data = pd.read_csv(homicide_url)"
      ],
      "metadata": {
        "id": "oCVscZVOelsF"
      },
      "execution_count": 3,
      "outputs": []
    },
    {
      "cell_type": "code",
      "source": [
        "# Download the zip file\n",
        "response = requests.get(non_homicide_zip_url)\n",
        "zip_file = zipfile.ZipFile(io.BytesIO(response.content))\n",
        "\n",
        "# Extract the .csv file inside the zip and load it into pandas\n",
        "\n",
        "with zip_file.open('Major_Crime_Indicators_Open_Data_6927126107499016617.csv') as file:\n",
        "    non_homicide_data = pd.read_csv(file)"
      ],
      "metadata": {
        "id": "NAPZYrkKerbT"
      },
      "execution_count": 4,
      "outputs": []
    },
    {
      "cell_type": "code",
      "source": [
        "# Preview both datasets\n",
        "print(\"Homicide Data Sample:\\n\", homicide_data.head())\n",
        "print(\"\\nNon-Homicide Data Sample:\\n\", non_homicide_data.head())\n"
      ],
      "metadata": {
        "colab": {
          "base_uri": "https://localhost:8080/"
        },
        "id": "ZrX2q3ygfKmg",
        "outputId": "263fb4e2-19a6-4d4f-876b-c1e8b1bb51b7"
      },
      "execution_count": 5,
      "outputs": [
        {
          "output_type": "stream",
          "name": "stdout",
          "text": [
            "Homicide Data Sample:\n",
            "    OBJECTID EVENT_UNIQUE_ID              OCC_DATE  OCC_YEAR OCC_MONTH  \\\n",
            "0         1   GO-2004111878   1/3/2004 5:00:00 AM      2004   January   \n",
            "1         2   GO-2004125755   1/8/2004 5:00:00 AM      2004   January   \n",
            "2         3   GO-2004136086   1/8/2004 5:00:00 AM      2004   January   \n",
            "3         4   GO-2004148623  1/25/2004 5:00:00 AM      2004   January   \n",
            "4         5   GO-2004148619  1/25/2004 5:00:00 AM      2004   January   \n",
            "\n",
            "   OCC_DAY   OCC_DOW  OCC_DOY DIVISION HOMICIDE_TYPE HOOD_158  \\\n",
            "0        3  Saturday        3      D53         Other      098   \n",
            "1        8  Thursday        8      D42      Shooting      142   \n",
            "2        8  Thursday        8      D42      Shooting      146   \n",
            "3       25    Sunday       25      D13      Shooting      171   \n",
            "4       25    Sunday       25      D42      Shooting      144   \n",
            "\n",
            "                NEIGHBOURHOOD_158 HOOD_140  \\\n",
            "0        Rosedale-Moore Park (98)      098   \n",
            "1              Woburn North (142)      137   \n",
            "2              Malvern East (146)      132   \n",
            "3  Junction-Wallace Emerson (171)      093   \n",
            "4       Morningside Heights (144)      131   \n",
            "\n",
            "                          NEIGHBOURHOOD_140  LONG_WGS84  LAT_WGS84  \\\n",
            "0                  Rosedale-Moore Park (98)  -79.392828  43.685026   \n",
            "1                              Woburn (137)  -79.233852  43.781782   \n",
            "2                             Malvern (132)  -79.205574  43.810544   \n",
            "3  Dovercourt-Wallace Emerson-Junction (93)  -79.434387  43.670467   \n",
            "4                               Rouge (131)  -79.204958  43.822997   \n",
            "\n",
            "              x             y  \n",
            "0 -8.837969e+06  5.416828e+06  \n",
            "1 -8.820272e+06  5.431734e+06  \n",
            "2 -8.817124e+06  5.436170e+06  \n",
            "3 -8.842596e+06  5.414587e+06  \n",
            "4 -8.817056e+06  5.438091e+06  \n",
            "\n",
            "Non-Homicide Data Sample:\n",
            "    OBJECTID EVENT_UNIQUE_ID          REPORT_DATE               OCC_DATE  \\\n",
            "0         1  GO-20141260715  1/1/2014 5:00:00 AM    1/1/2014 5:00:00 AM   \n",
            "1         2  GO-20141260079  1/1/2014 5:00:00 AM  12/31/2013 5:00:00 AM   \n",
            "2         3  GO-20141260912  1/1/2014 5:00:00 AM    1/1/2014 5:00:00 AM   \n",
            "3         4  GO-20141260322  1/1/2014 5:00:00 AM  12/31/2013 5:00:00 AM   \n",
            "4         5  GO-20141260521  1/1/2014 5:00:00 AM    1/1/2014 5:00:00 AM   \n",
            "\n",
            "   REPORT_YEAR REPORT_MONTH  REPORT_DAY  REPORT_DOY  REPORT_DOW  REPORT_HOUR  \\\n",
            "0         2014      January           1           1  Wednesday             3   \n",
            "1         2014      January           1           1  Wednesday             1   \n",
            "2         2014      January           1           1  Wednesday             6   \n",
            "3         2014      January           1           1  Wednesday             7   \n",
            "4         2014      January           1           1  Wednesday             2   \n",
            "\n",
            "   ...              OFFENCE     MCI_CATEGORY  HOOD_158  \\\n",
            "0  ...              Assault          Assault       092   \n",
            "1  ...                  B&E  Break and Enter       070   \n",
            "2  ...  Robbery With Weapon          Robbery       078   \n",
            "3  ...                  B&E  Break and Enter       158   \n",
            "4  ...                  B&E  Break and Enter       081   \n",
            "\n",
            "             NEIGHBOURHOOD_158 HOOD_140                NEIGHBOURHOOD_140  \\\n",
            "0  Corso Italia-Davenport (92)      092      Corso Italia-Davenport (92)   \n",
            "1         South Riverdale (70)      070             South Riverdale (70)   \n",
            "2    Kensington-Chinatown (78)      078        Kensington-Chinatown (78)   \n",
            "3              Islington (158)      014  Islington-City Centre West (14)   \n",
            "4       Trinity-Bellwoods (81)      081           Trinity-Bellwoods (81)   \n",
            "\n",
            "  LONG_WGS84  LAT_WGS84             x             y  \n",
            "0 -79.455770  43.677775 -8.844976e+06  5.415712e+06  \n",
            "1 -79.341683  43.665011 -8.832276e+06  5.413747e+06  \n",
            "2 -79.401983  43.647598 -8.838988e+06  5.411068e+06  \n",
            "3 -79.554194  43.641775 -8.855932e+06  5.410172e+06  \n",
            "4 -79.412798  43.650928 -8.840192e+06  5.411580e+06  \n",
            "\n",
            "[5 rows x 31 columns]\n"
          ]
        }
      ]
    },
    {
      "cell_type": "code",
      "source": [
        "# Shape of each dataset\n",
        "print(\"Homicide Data Shape:\", homicide_data.shape)\n",
        "print(\"Non-Homicide Data Shape:\", non_homicide_data.shape)\n",
        "\n"
      ],
      "metadata": {
        "colab": {
          "base_uri": "https://localhost:8080/"
        },
        "id": "Khqq_l47hIcq",
        "outputId": "668c0242-8973-4f8f-ec62-096c9f787f32"
      },
      "execution_count": 6,
      "outputs": [
        {
          "output_type": "stream",
          "name": "stdout",
          "text": [
            "Homicide Data Shape: (1440, 18)\n",
            "Non-Homicide Data Shape: (396735, 31)\n"
          ]
        }
      ]
    },
    {
      "cell_type": "code",
      "source": [
        "# Display info for Homicide Data\n",
        "print(\"Homicide Data Info:\")\n",
        "homicide_data.info()\n",
        "\n",
        "# Display info for Non-Homicide Data\n",
        "print(\"\\nNon-Homicide Data Info:\")\n",
        "non_homicide_data.info()"
      ],
      "metadata": {
        "colab": {
          "base_uri": "https://localhost:8080/"
        },
        "id": "_4jjr2_Wi1on",
        "outputId": "8c7e2d68-49fb-44fe-8f84-39e36d797fd0"
      },
      "execution_count": 7,
      "outputs": [
        {
          "output_type": "stream",
          "name": "stdout",
          "text": [
            "Homicide Data Info:\n",
            "<class 'pandas.core.frame.DataFrame'>\n",
            "RangeIndex: 1440 entries, 0 to 1439\n",
            "Data columns (total 18 columns):\n",
            " #   Column             Non-Null Count  Dtype  \n",
            "---  ------             --------------  -----  \n",
            " 0   OBJECTID           1440 non-null   int64  \n",
            " 1   EVENT_UNIQUE_ID    1440 non-null   object \n",
            " 2   OCC_DATE           1440 non-null   object \n",
            " 3   OCC_YEAR           1440 non-null   int64  \n",
            " 4   OCC_MONTH          1440 non-null   object \n",
            " 5   OCC_DAY            1440 non-null   int64  \n",
            " 6   OCC_DOW            1440 non-null   object \n",
            " 7   OCC_DOY            1440 non-null   int64  \n",
            " 8   DIVISION           1440 non-null   object \n",
            " 9   HOMICIDE_TYPE      1440 non-null   object \n",
            " 10  HOOD_158           1440 non-null   object \n",
            " 11  NEIGHBOURHOOD_158  1440 non-null   object \n",
            " 12  HOOD_140           1440 non-null   object \n",
            " 13  NEIGHBOURHOOD_140  1440 non-null   object \n",
            " 14  LONG_WGS84         1440 non-null   float64\n",
            " 15  LAT_WGS84          1440 non-null   float64\n",
            " 16  x                  1440 non-null   float64\n",
            " 17  y                  1440 non-null   float64\n",
            "dtypes: float64(4), int64(4), object(10)\n",
            "memory usage: 202.6+ KB\n",
            "\n",
            "Non-Homicide Data Info:\n",
            "<class 'pandas.core.frame.DataFrame'>\n",
            "RangeIndex: 396735 entries, 0 to 396734\n",
            "Data columns (total 31 columns):\n",
            " #   Column             Non-Null Count   Dtype  \n",
            "---  ------             --------------   -----  \n",
            " 0   OBJECTID           396735 non-null  int64  \n",
            " 1   EVENT_UNIQUE_ID    396735 non-null  object \n",
            " 2   REPORT_DATE        396735 non-null  object \n",
            " 3   OCC_DATE           396735 non-null  object \n",
            " 4   REPORT_YEAR        396735 non-null  int64  \n",
            " 5   REPORT_MONTH       396735 non-null  object \n",
            " 6   REPORT_DAY         396735 non-null  int64  \n",
            " 7   REPORT_DOY         396735 non-null  int64  \n",
            " 8   REPORT_DOW         396735 non-null  object \n",
            " 9   REPORT_HOUR        396735 non-null  int64  \n",
            " 10  OCC_YEAR           396605 non-null  float64\n",
            " 11  OCC_MONTH          396605 non-null  object \n",
            " 12  OCC_DAY            396605 non-null  float64\n",
            " 13  OCC_DOY            396605 non-null  float64\n",
            " 14  OCC_DOW            396605 non-null  object \n",
            " 15  OCC_HOUR           396735 non-null  int64  \n",
            " 16  DIVISION           396735 non-null  object \n",
            " 17  LOCATION_TYPE      396735 non-null  object \n",
            " 18  PREMISES_TYPE      396735 non-null  object \n",
            " 19  UCR_CODE           396735 non-null  int64  \n",
            " 20  UCR_EXT            396735 non-null  int64  \n",
            " 21  OFFENCE            396735 non-null  object \n",
            " 22  MCI_CATEGORY       396735 non-null  object \n",
            " 23  HOOD_158           396735 non-null  object \n",
            " 24  NEIGHBOURHOOD_158  396735 non-null  object \n",
            " 25  HOOD_140           396735 non-null  object \n",
            " 26  NEIGHBOURHOOD_140  396735 non-null  object \n",
            " 27  LONG_WGS84         396735 non-null  float64\n",
            " 28  LAT_WGS84          396735 non-null  float64\n",
            " 29  x                  396735 non-null  float64\n",
            " 30  y                  396735 non-null  float64\n",
            "dtypes: float64(7), int64(8), object(16)\n",
            "memory usage: 93.8+ MB\n"
          ]
        }
      ]
    },
    {
      "cell_type": "code",
      "source": [
        "# Count missing values in each dataset\n",
        "print(\"\\nHomicide Data Missing Values:\\n\", homicide_data.isnull().sum())\n",
        "print(\"\\nNon-Homicide Data Missing Values:\\n\", non_homicide_data.isnull().sum())"
      ],
      "metadata": {
        "colab": {
          "base_uri": "https://localhost:8080/"
        },
        "id": "VwAzcPPsjrqN",
        "outputId": "f9deb140-82b0-4f81-d2a1-0758256f4784"
      },
      "execution_count": 8,
      "outputs": [
        {
          "output_type": "stream",
          "name": "stdout",
          "text": [
            "\n",
            "Homicide Data Missing Values:\n",
            " OBJECTID             0\n",
            "EVENT_UNIQUE_ID      0\n",
            "OCC_DATE             0\n",
            "OCC_YEAR             0\n",
            "OCC_MONTH            0\n",
            "OCC_DAY              0\n",
            "OCC_DOW              0\n",
            "OCC_DOY              0\n",
            "DIVISION             0\n",
            "HOMICIDE_TYPE        0\n",
            "HOOD_158             0\n",
            "NEIGHBOURHOOD_158    0\n",
            "HOOD_140             0\n",
            "NEIGHBOURHOOD_140    0\n",
            "LONG_WGS84           0\n",
            "LAT_WGS84            0\n",
            "x                    0\n",
            "y                    0\n",
            "dtype: int64\n",
            "\n",
            "Non-Homicide Data Missing Values:\n",
            " OBJECTID               0\n",
            "EVENT_UNIQUE_ID        0\n",
            "REPORT_DATE            0\n",
            "OCC_DATE               0\n",
            "REPORT_YEAR            0\n",
            "REPORT_MONTH           0\n",
            "REPORT_DAY             0\n",
            "REPORT_DOY             0\n",
            "REPORT_DOW             0\n",
            "REPORT_HOUR            0\n",
            "OCC_YEAR             130\n",
            "OCC_MONTH            130\n",
            "OCC_DAY              130\n",
            "OCC_DOY              130\n",
            "OCC_DOW              130\n",
            "OCC_HOUR               0\n",
            "DIVISION               0\n",
            "LOCATION_TYPE          0\n",
            "PREMISES_TYPE          0\n",
            "UCR_CODE               0\n",
            "UCR_EXT                0\n",
            "OFFENCE                0\n",
            "MCI_CATEGORY           0\n",
            "HOOD_158               0\n",
            "NEIGHBOURHOOD_158      0\n",
            "HOOD_140               0\n",
            "NEIGHBOURHOOD_140      0\n",
            "LONG_WGS84             0\n",
            "LAT_WGS84              0\n",
            "x                      0\n",
            "y                      0\n",
            "dtype: int64\n"
          ]
        }
      ]
    },
    {
      "cell_type": "code",
      "source": [
        "# Drop rows with missing values in both datasets\n",
        "homicide_data = homicide_data.dropna()\n",
        "non_homicide_data = non_homicide_data.dropna()"
      ],
      "metadata": {
        "id": "ZwugfNo_mqzG"
      },
      "execution_count": 9,
      "outputs": []
    },
    {
      "cell_type": "code",
      "source": [
        "# Convert date columns in homicide data from object type to datetime format\n",
        "homicide_data['OCC_DATE'] = pd.to_datetime(homicide_data['OCC_DATE'], errors='coerce')\n",
        "\n",
        "# Convert date columns in non-homicide data from object type to datetime format\n",
        "non_homicide_data['REPORT_DATE'] = pd.to_datetime(non_homicide_data['REPORT_DATE'], errors='coerce')\n",
        "non_homicide_data['OCC_DATE'] = pd.to_datetime(non_homicide_data['OCC_DATE'], errors='coerce')"
      ],
      "metadata": {
        "id": "9-BMewXmm03P"
      },
      "execution_count": 10,
      "outputs": []
    },
    {
      "cell_type": "code",
      "source": [
        "# Verify homicide data after cleaning, let’s display basic information to confirm the data types and check for remaining missing values\n",
        "print(\"Homicide Data Info After Cleaning:\")\n",
        "print(homicide_data.info())\n",
        "print(\"\\nSample of Homicide Data:\")\n",
        "print(homicide_data.head())\n",
        "\n",
        "# Verify non-homicide data after cleaning, let’s display basic information to confirm the data types and check for remaining missing values\n",
        "print(\"Non-Homicide Data Info After Cleaning:\")\n",
        "print(non_homicide_data.info())\n",
        "print(\"\\nSample of Non-Homicide Data:\")\n",
        "print(non_homicide_data.head())"
      ],
      "metadata": {
        "colab": {
          "base_uri": "https://localhost:8080/"
        },
        "id": "BGYsdt2EnIqA",
        "outputId": "747e57c9-8602-456b-adbd-6d5964a5e431"
      },
      "execution_count": 11,
      "outputs": [
        {
          "output_type": "stream",
          "name": "stdout",
          "text": [
            "Homicide Data Info After Cleaning:\n",
            "<class 'pandas.core.frame.DataFrame'>\n",
            "RangeIndex: 1440 entries, 0 to 1439\n",
            "Data columns (total 18 columns):\n",
            " #   Column             Non-Null Count  Dtype         \n",
            "---  ------             --------------  -----         \n",
            " 0   OBJECTID           1440 non-null   int64         \n",
            " 1   EVENT_UNIQUE_ID    1440 non-null   object        \n",
            " 2   OCC_DATE           1440 non-null   datetime64[ns]\n",
            " 3   OCC_YEAR           1440 non-null   int64         \n",
            " 4   OCC_MONTH          1440 non-null   object        \n",
            " 5   OCC_DAY            1440 non-null   int64         \n",
            " 6   OCC_DOW            1440 non-null   object        \n",
            " 7   OCC_DOY            1440 non-null   int64         \n",
            " 8   DIVISION           1440 non-null   object        \n",
            " 9   HOMICIDE_TYPE      1440 non-null   object        \n",
            " 10  HOOD_158           1440 non-null   object        \n",
            " 11  NEIGHBOURHOOD_158  1440 non-null   object        \n",
            " 12  HOOD_140           1440 non-null   object        \n",
            " 13  NEIGHBOURHOOD_140  1440 non-null   object        \n",
            " 14  LONG_WGS84         1440 non-null   float64       \n",
            " 15  LAT_WGS84          1440 non-null   float64       \n",
            " 16  x                  1440 non-null   float64       \n",
            " 17  y                  1440 non-null   float64       \n",
            "dtypes: datetime64[ns](1), float64(4), int64(4), object(9)\n",
            "memory usage: 202.6+ KB\n",
            "None\n",
            "\n",
            "Sample of Homicide Data:\n",
            "   OBJECTID EVENT_UNIQUE_ID            OCC_DATE  OCC_YEAR OCC_MONTH  OCC_DAY  \\\n",
            "0         1   GO-2004111878 2004-01-03 05:00:00      2004   January        3   \n",
            "1         2   GO-2004125755 2004-01-08 05:00:00      2004   January        8   \n",
            "2         3   GO-2004136086 2004-01-08 05:00:00      2004   January        8   \n",
            "3         4   GO-2004148623 2004-01-25 05:00:00      2004   January       25   \n",
            "4         5   GO-2004148619 2004-01-25 05:00:00      2004   January       25   \n",
            "\n",
            "    OCC_DOW  OCC_DOY DIVISION HOMICIDE_TYPE HOOD_158  \\\n",
            "0  Saturday        3      D53         Other      098   \n",
            "1  Thursday        8      D42      Shooting      142   \n",
            "2  Thursday        8      D42      Shooting      146   \n",
            "3    Sunday       25      D13      Shooting      171   \n",
            "4    Sunday       25      D42      Shooting      144   \n",
            "\n",
            "                NEIGHBOURHOOD_158 HOOD_140  \\\n",
            "0        Rosedale-Moore Park (98)      098   \n",
            "1              Woburn North (142)      137   \n",
            "2              Malvern East (146)      132   \n",
            "3  Junction-Wallace Emerson (171)      093   \n",
            "4       Morningside Heights (144)      131   \n",
            "\n",
            "                          NEIGHBOURHOOD_140  LONG_WGS84  LAT_WGS84  \\\n",
            "0                  Rosedale-Moore Park (98)  -79.392828  43.685026   \n",
            "1                              Woburn (137)  -79.233852  43.781782   \n",
            "2                             Malvern (132)  -79.205574  43.810544   \n",
            "3  Dovercourt-Wallace Emerson-Junction (93)  -79.434387  43.670467   \n",
            "4                               Rouge (131)  -79.204958  43.822997   \n",
            "\n",
            "              x             y  \n",
            "0 -8.837969e+06  5.416828e+06  \n",
            "1 -8.820272e+06  5.431734e+06  \n",
            "2 -8.817124e+06  5.436170e+06  \n",
            "3 -8.842596e+06  5.414587e+06  \n",
            "4 -8.817056e+06  5.438091e+06  \n",
            "Non-Homicide Data Info After Cleaning:\n",
            "<class 'pandas.core.frame.DataFrame'>\n",
            "Index: 396605 entries, 0 to 396734\n",
            "Data columns (total 31 columns):\n",
            " #   Column             Non-Null Count   Dtype         \n",
            "---  ------             --------------   -----         \n",
            " 0   OBJECTID           396605 non-null  int64         \n",
            " 1   EVENT_UNIQUE_ID    396605 non-null  object        \n",
            " 2   REPORT_DATE        396605 non-null  datetime64[ns]\n",
            " 3   OCC_DATE           396605 non-null  datetime64[ns]\n",
            " 4   REPORT_YEAR        396605 non-null  int64         \n",
            " 5   REPORT_MONTH       396605 non-null  object        \n",
            " 6   REPORT_DAY         396605 non-null  int64         \n",
            " 7   REPORT_DOY         396605 non-null  int64         \n",
            " 8   REPORT_DOW         396605 non-null  object        \n",
            " 9   REPORT_HOUR        396605 non-null  int64         \n",
            " 10  OCC_YEAR           396605 non-null  float64       \n",
            " 11  OCC_MONTH          396605 non-null  object        \n",
            " 12  OCC_DAY            396605 non-null  float64       \n",
            " 13  OCC_DOY            396605 non-null  float64       \n",
            " 14  OCC_DOW            396605 non-null  object        \n",
            " 15  OCC_HOUR           396605 non-null  int64         \n",
            " 16  DIVISION           396605 non-null  object        \n",
            " 17  LOCATION_TYPE      396605 non-null  object        \n",
            " 18  PREMISES_TYPE      396605 non-null  object        \n",
            " 19  UCR_CODE           396605 non-null  int64         \n",
            " 20  UCR_EXT            396605 non-null  int64         \n",
            " 21  OFFENCE            396605 non-null  object        \n",
            " 22  MCI_CATEGORY       396605 non-null  object        \n",
            " 23  HOOD_158           396605 non-null  object        \n",
            " 24  NEIGHBOURHOOD_158  396605 non-null  object        \n",
            " 25  HOOD_140           396605 non-null  object        \n",
            " 26  NEIGHBOURHOOD_140  396605 non-null  object        \n",
            " 27  LONG_WGS84         396605 non-null  float64       \n",
            " 28  LAT_WGS84          396605 non-null  float64       \n",
            " 29  x                  396605 non-null  float64       \n",
            " 30  y                  396605 non-null  float64       \n",
            "dtypes: datetime64[ns](2), float64(7), int64(8), object(14)\n",
            "memory usage: 96.8+ MB\n",
            "None\n",
            "\n",
            "Sample of Non-Homicide Data:\n",
            "   OBJECTID EVENT_UNIQUE_ID         REPORT_DATE            OCC_DATE  \\\n",
            "0         1  GO-20141260715 2014-01-01 05:00:00 2014-01-01 05:00:00   \n",
            "1         2  GO-20141260079 2014-01-01 05:00:00 2013-12-31 05:00:00   \n",
            "2         3  GO-20141260912 2014-01-01 05:00:00 2014-01-01 05:00:00   \n",
            "3         4  GO-20141260322 2014-01-01 05:00:00 2013-12-31 05:00:00   \n",
            "4         5  GO-20141260521 2014-01-01 05:00:00 2014-01-01 05:00:00   \n",
            "\n",
            "   REPORT_YEAR REPORT_MONTH  REPORT_DAY  REPORT_DOY  REPORT_DOW  REPORT_HOUR  \\\n",
            "0         2014      January           1           1  Wednesday             3   \n",
            "1         2014      January           1           1  Wednesday             1   \n",
            "2         2014      January           1           1  Wednesday             6   \n",
            "3         2014      January           1           1  Wednesday             7   \n",
            "4         2014      January           1           1  Wednesday             2   \n",
            "\n",
            "   ...              OFFENCE     MCI_CATEGORY  HOOD_158  \\\n",
            "0  ...              Assault          Assault       092   \n",
            "1  ...                  B&E  Break and Enter       070   \n",
            "2  ...  Robbery With Weapon          Robbery       078   \n",
            "3  ...                  B&E  Break and Enter       158   \n",
            "4  ...                  B&E  Break and Enter       081   \n",
            "\n",
            "             NEIGHBOURHOOD_158 HOOD_140                NEIGHBOURHOOD_140  \\\n",
            "0  Corso Italia-Davenport (92)      092      Corso Italia-Davenport (92)   \n",
            "1         South Riverdale (70)      070             South Riverdale (70)   \n",
            "2    Kensington-Chinatown (78)      078        Kensington-Chinatown (78)   \n",
            "3              Islington (158)      014  Islington-City Centre West (14)   \n",
            "4       Trinity-Bellwoods (81)      081           Trinity-Bellwoods (81)   \n",
            "\n",
            "  LONG_WGS84  LAT_WGS84             x             y  \n",
            "0 -79.455770  43.677775 -8.844976e+06  5.415712e+06  \n",
            "1 -79.341683  43.665011 -8.832276e+06  5.413747e+06  \n",
            "2 -79.401983  43.647598 -8.838988e+06  5.411068e+06  \n",
            "3 -79.554194  43.641775 -8.855932e+06  5.410172e+06  \n",
            "4 -79.412798  43.650928 -8.840192e+06  5.411580e+06  \n",
            "\n",
            "[5 rows x 31 columns]\n"
          ]
        }
      ]
    },
    {
      "cell_type": "code",
      "source": [
        "# Check for duplicates in both datasets\n",
        "duplicate_homicide_rows = homicide_data.duplicated().sum()\n",
        "duplicate_non_homicide_rows = non_homicide_data.duplicated().sum()\n",
        "\n",
        "print(f\"Duplicate rows in Homicide Data: {duplicate_homicide_rows}\")\n",
        "print(f\"Duplicate rows in Non-Homicide Data: {duplicate_non_homicide_rows}\")\n",
        "\n",
        "# Verify date parts for homicide_data\n",
        "homicide_data['year_check'] = homicide_data['OCC_DATE'].dt.year == homicide_data['OCC_YEAR']\n",
        "homicide_data['month_check'] = homicide_data['OCC_DATE'].dt.month_name() == homicide_data['OCC_MONTH']\n",
        "homicide_data['day_check'] = homicide_data['OCC_DATE'].dt.day == homicide_data['OCC_DAY']\n",
        "\n",
        "# Check if any mismatches are found\n",
        "homicide_date_mismatches = homicide_data[~(homicide_data['year_check'] & homicide_data['month_check'] & homicide_data['day_check'])]\n",
        "print(f\"Homicide Date Mismatches: {len(homicide_date_mismatches)}\")\n",
        "\n",
        "# Verify date parts for non_homicide_data similarly\n",
        "non_homicide_data['year_check'] = non_homicide_data['OCC_DATE'].dt.year == non_homicide_data['OCC_YEAR']\n",
        "non_homicide_data['month_check'] = non_homicide_data['OCC_DATE'].dt.month_name() == non_homicide_data['OCC_MONTH']\n",
        "non_homicide_data['day_check'] = non_homicide_data['OCC_DATE'].dt.day == non_homicide_data['OCC_DAY']\n",
        "\n",
        "# Check if any mismatches are found\n",
        "non_homicide_date_mismatches = non_homicide_data[~(non_homicide_data['year_check'] & non_homicide_data['month_check'] & non_homicide_data['day_check'])]\n",
        "print(f\"Non-Homicide Date Mismatches: {len(non_homicide_date_mismatches)}\")"
      ],
      "metadata": {
        "colab": {
          "base_uri": "https://localhost:8080/"
        },
        "id": "g2lpE2QAooKn",
        "outputId": "8410f41b-faff-4924-9c1a-4ebb85a4d4a0"
      },
      "execution_count": 12,
      "outputs": [
        {
          "output_type": "stream",
          "name": "stdout",
          "text": [
            "Duplicate rows in Homicide Data: 0\n",
            "Duplicate rows in Non-Homicide Data: 0\n",
            "Homicide Date Mismatches: 0\n",
            "Non-Homicide Date Mismatches: 0\n"
          ]
        }
      ]
    },
    {
      "cell_type": "code",
      "source": [
        "# Drop unnecessary columns\n",
        "non_homicide_data = non_homicide_data.drop(columns=['year_check', 'month_check', 'day_check'])\n",
        "homicide_data = homicide_data.drop(columns=['year_check', 'month_check', 'day_check'])\n",
        "\n",
        "\n",
        "# Convert some of the float64 columns to int64\n",
        "non_homicide_data['OCC_YEAR'] = non_homicide_data['OCC_YEAR'].astype('int64')\n",
        "non_homicide_data['OCC_DAY'] = non_homicide_data['OCC_DAY'].astype('int64')\n",
        "non_homicide_data['OCC_DOY'] = non_homicide_data['OCC_DOY'].astype('int64')\n",
        "homicide_data['OCC_YEAR'] = homicide_data['OCC_YEAR'].astype('int64')\n",
        "homicide_data['OCC_DAY'] = homicide_data['OCC_DAY'].astype('int64')\n",
        "homicide_data['OCC_DOY'] = homicide_data['OCC_DOY'].astype('int64')"
      ],
      "metadata": {
        "id": "lvEpWTl5Eb2N"
      },
      "execution_count": 13,
      "outputs": []
    },
    {
      "cell_type": "code",
      "source": [
        "# Remove rows where longitude or latitude are zero in the homicide dataset\n",
        "homicide_data = homicide_data[(homicide_data['LONG_WGS84'] != 0) & (homicide_data['LAT_WGS84'] != 0)]\n",
        "\n",
        "# Remove rows where longitude or latitude are zero in the non-homicide dataset\n",
        "non_homicide_data = non_homicide_data[(non_homicide_data['LONG_WGS84'] != 0) & (non_homicide_data['LAT_WGS84'] != 0)]\n",
        "\n",
        "# Display the shape of the updated datasets\n",
        "print(\"Homicide Data - Updated Shape:\", homicide_data.shape)\n",
        "print(\"Non-Homicide Data - Updated Shape:\", non_homicide_data.shape)"
      ],
      "metadata": {
        "colab": {
          "base_uri": "https://localhost:8080/"
        },
        "id": "mDflQNQpwWjX",
        "outputId": "3fa7bcd3-c3dc-4565-f7a9-745f81629e65"
      },
      "execution_count": 14,
      "outputs": [
        {
          "output_type": "stream",
          "name": "stdout",
          "text": [
            "Homicide Data - Updated Shape: (1440, 18)\n",
            "Non-Homicide Data - Updated Shape: (390636, 31)\n"
          ]
        }
      ]
    },
    {
      "cell_type": "code",
      "source": [
        "# Check for NSA values in the specified columns for both datasets\n",
        "nsa_counts_homicide = {\n",
        "    'HOOD_158': (homicide_data['HOOD_158'] == 'NSA').sum(),\n",
        "    'NEIGHBOURHOOD_158': (homicide_data['NEIGHBOURHOOD_158'] == 'NSA').sum(),\n",
        "    'HOOD_140': (homicide_data['HOOD_140'] == 'NSA').sum(),\n",
        "    'NEIGHBOURHOOD_140': (homicide_data['NEIGHBOURHOOD_140'] == 'NSA').sum(),\n",
        "}\n",
        "\n",
        "nsa_counts_non_homicide = {\n",
        "    'HOOD_158': (non_homicide_data['HOOD_158'] == 'NSA').sum(),\n",
        "    'NEIGHBOURHOOD_158': (non_homicide_data['NEIGHBOURHOOD_158'] == 'NSA').sum(),\n",
        "    'HOOD_140': (non_homicide_data['HOOD_140'] == 'NSA').sum(),\n",
        "    'NEIGHBOURHOOD_140': (non_homicide_data['NEIGHBOURHOOD_140'] == 'NSA').sum(),\n",
        "}\n",
        "\n",
        "# Print the counts of NSA values for both datasets\n",
        "print(\"NSA Counts in Homicide Data:\")\n",
        "for column, count in nsa_counts_homicide.items():\n",
        "    print(f\"{column}: {count}\")\n",
        "\n",
        "print(\"\\nNSA Counts in Non-Homicide Data:\")\n",
        "for column, count in nsa_counts_non_homicide.items():\n",
        "    print(f\"{column}: {count}\")"
      ],
      "metadata": {
        "colab": {
          "base_uri": "https://localhost:8080/"
        },
        "id": "LAwL5pOS1HLU",
        "outputId": "27c15c38-1e7e-40f0-e610-215ec4f6e3c7"
      },
      "execution_count": 15,
      "outputs": [
        {
          "output_type": "stream",
          "name": "stdout",
          "text": [
            "NSA Counts in Homicide Data:\n",
            "HOOD_158: 3\n",
            "NEIGHBOURHOOD_158: 3\n",
            "HOOD_140: 3\n",
            "NEIGHBOURHOOD_140: 3\n",
            "\n",
            "NSA Counts in Non-Homicide Data:\n",
            "HOOD_158: 304\n",
            "NEIGHBOURHOOD_158: 304\n",
            "HOOD_140: 304\n",
            "NEIGHBOURHOOD_140: 304\n"
          ]
        }
      ]
    },
    {
      "cell_type": "code",
      "source": [
        "# Remove rows with NSA in 'NEIGHBOURHOOD_158' for both datasets\n",
        "homicide_data = homicide_data[homicide_data['NEIGHBOURHOOD_158'] != 'NSA']\n",
        "non_homicide_data = non_homicide_data[non_homicide_data['NEIGHBOURHOOD_158'] != 'NSA']\n",
        "\n",
        "# Check the updated shapes of the DataFrames\n",
        "print(\"Homicide Data - Updated Shape:\", homicide_data.shape)\n",
        "print(\"Non-Homicide Data - Updated Shape:\", non_homicide_data.shape)"
      ],
      "metadata": {
        "colab": {
          "base_uri": "https://localhost:8080/"
        },
        "id": "dJLLPpQU1RHt",
        "outputId": "fc61e687-0a09-44d4-a953-6a0cb6db7f91"
      },
      "execution_count": 16,
      "outputs": [
        {
          "output_type": "stream",
          "name": "stdout",
          "text": [
            "Homicide Data - Updated Shape: (1437, 18)\n",
            "Non-Homicide Data - Updated Shape: (390332, 31)\n"
          ]
        }
      ]
    },
    {
      "cell_type": "code",
      "source": [
        "# Verify homicide data after cleaning, let’s display basic information\n",
        "print(\"Homicide Data Info After Cleaning:\")\n",
        "print(homicide_data.info())\n",
        "print(\"\\nSample of Homicide Data:\")\n",
        "print(homicide_data.head())\n",
        "\n",
        "# Verify non-homicide data after cleaning, let’s display basic information\n",
        "print(\"Non-Homicide Data Info After Cleaning:\")\n",
        "print(non_homicide_data.info())\n",
        "print(\"\\nSample of Non-Homicide Data:\")\n",
        "print(non_homicide_data.head())"
      ],
      "metadata": {
        "colab": {
          "base_uri": "https://localhost:8080/"
        },
        "id": "RHgxMo7811nh",
        "outputId": "b0ee4777-104d-4ca9-f433-49fbe45de00d"
      },
      "execution_count": 21,
      "outputs": [
        {
          "output_type": "stream",
          "name": "stdout",
          "text": [
            "Homicide Data Info After Cleaning:\n",
            "<class 'pandas.core.frame.DataFrame'>\n",
            "Index: 1437 entries, 0 to 1439\n",
            "Data columns (total 18 columns):\n",
            " #   Column             Non-Null Count  Dtype         \n",
            "---  ------             --------------  -----         \n",
            " 0   OBJECTID           1437 non-null   int64         \n",
            " 1   EVENT_UNIQUE_ID    1437 non-null   object        \n",
            " 2   OCC_DATE           1437 non-null   datetime64[ns]\n",
            " 3   OCC_YEAR           1437 non-null   int64         \n",
            " 4   OCC_MONTH          1437 non-null   object        \n",
            " 5   OCC_DAY            1437 non-null   int64         \n",
            " 6   OCC_DOW            1437 non-null   object        \n",
            " 7   OCC_DOY            1437 non-null   int64         \n",
            " 8   DIVISION           1437 non-null   object        \n",
            " 9   HOMICIDE_TYPE      1437 non-null   object        \n",
            " 10  HOOD_158           1437 non-null   object        \n",
            " 11  NEIGHBOURHOOD_158  1437 non-null   object        \n",
            " 12  HOOD_140           1437 non-null   object        \n",
            " 13  NEIGHBOURHOOD_140  1437 non-null   object        \n",
            " 14  LONG_WGS84         1437 non-null   float64       \n",
            " 15  LAT_WGS84          1437 non-null   float64       \n",
            " 16  x                  1437 non-null   float64       \n",
            " 17  y                  1437 non-null   float64       \n",
            "dtypes: datetime64[ns](1), float64(4), int64(4), object(9)\n",
            "memory usage: 213.3+ KB\n",
            "None\n",
            "\n",
            "Sample of Homicide Data:\n",
            "   OBJECTID EVENT_UNIQUE_ID            OCC_DATE  OCC_YEAR OCC_MONTH  OCC_DAY  \\\n",
            "0         1   GO-2004111878 2004-01-03 05:00:00      2004   January        3   \n",
            "1         2   GO-2004125755 2004-01-08 05:00:00      2004   January        8   \n",
            "2         3   GO-2004136086 2004-01-08 05:00:00      2004   January        8   \n",
            "3         4   GO-2004148623 2004-01-25 05:00:00      2004   January       25   \n",
            "4         5   GO-2004148619 2004-01-25 05:00:00      2004   January       25   \n",
            "\n",
            "    OCC_DOW  OCC_DOY DIVISION HOMICIDE_TYPE HOOD_158  \\\n",
            "0  Saturday        3      D53         Other      098   \n",
            "1  Thursday        8      D42      Shooting      142   \n",
            "2  Thursday        8      D42      Shooting      146   \n",
            "3    Sunday       25      D13      Shooting      171   \n",
            "4    Sunday       25      D42      Shooting      144   \n",
            "\n",
            "                NEIGHBOURHOOD_158 HOOD_140  \\\n",
            "0        Rosedale-Moore Park (98)      098   \n",
            "1              Woburn North (142)      137   \n",
            "2              Malvern East (146)      132   \n",
            "3  Junction-Wallace Emerson (171)      093   \n",
            "4       Morningside Heights (144)      131   \n",
            "\n",
            "                          NEIGHBOURHOOD_140  LONG_WGS84  LAT_WGS84  \\\n",
            "0                  Rosedale-Moore Park (98)  -79.392828  43.685026   \n",
            "1                              Woburn (137)  -79.233852  43.781782   \n",
            "2                             Malvern (132)  -79.205574  43.810544   \n",
            "3  Dovercourt-Wallace Emerson-Junction (93)  -79.434387  43.670467   \n",
            "4                               Rouge (131)  -79.204958  43.822997   \n",
            "\n",
            "              x             y  \n",
            "0 -8.837969e+06  5.416828e+06  \n",
            "1 -8.820272e+06  5.431734e+06  \n",
            "2 -8.817124e+06  5.436170e+06  \n",
            "3 -8.842596e+06  5.414587e+06  \n",
            "4 -8.817056e+06  5.438091e+06  \n",
            "Non-Homicide Data Info After Cleaning:\n",
            "<class 'pandas.core.frame.DataFrame'>\n",
            "Index: 390332 entries, 0 to 396734\n",
            "Data columns (total 31 columns):\n",
            " #   Column             Non-Null Count   Dtype         \n",
            "---  ------             --------------   -----         \n",
            " 0   OBJECTID           390332 non-null  int64         \n",
            " 1   EVENT_UNIQUE_ID    390332 non-null  object        \n",
            " 2   REPORT_DATE        390332 non-null  datetime64[ns]\n",
            " 3   OCC_DATE           390332 non-null  datetime64[ns]\n",
            " 4   REPORT_YEAR        390332 non-null  int64         \n",
            " 5   REPORT_MONTH       390332 non-null  object        \n",
            " 6   REPORT_DAY         390332 non-null  int64         \n",
            " 7   REPORT_DOY         390332 non-null  int64         \n",
            " 8   REPORT_DOW         390332 non-null  object        \n",
            " 9   REPORT_HOUR        390332 non-null  int64         \n",
            " 10  OCC_YEAR           390332 non-null  int64         \n",
            " 11  OCC_MONTH          390332 non-null  object        \n",
            " 12  OCC_DAY            390332 non-null  int64         \n",
            " 13  OCC_DOY            390332 non-null  int64         \n",
            " 14  OCC_DOW            390332 non-null  object        \n",
            " 15  OCC_HOUR           390332 non-null  int64         \n",
            " 16  DIVISION           390332 non-null  object        \n",
            " 17  LOCATION_TYPE      390332 non-null  object        \n",
            " 18  PREMISES_TYPE      390332 non-null  object        \n",
            " 19  UCR_CODE           390332 non-null  int64         \n",
            " 20  UCR_EXT            390332 non-null  int64         \n",
            " 21  OFFENCE            390332 non-null  object        \n",
            " 22  MCI_CATEGORY       390332 non-null  object        \n",
            " 23  HOOD_158           390332 non-null  object        \n",
            " 24  NEIGHBOURHOOD_158  390332 non-null  object        \n",
            " 25  HOOD_140           390332 non-null  object        \n",
            " 26  NEIGHBOURHOOD_140  390332 non-null  object        \n",
            " 27  LONG_WGS84         390332 non-null  float64       \n",
            " 28  LAT_WGS84          390332 non-null  float64       \n",
            " 29  x                  390332 non-null  float64       \n",
            " 30  y                  390332 non-null  float64       \n",
            "dtypes: datetime64[ns](2), float64(4), int64(11), object(14)\n",
            "memory usage: 95.3+ MB\n",
            "None\n",
            "\n",
            "Sample of Non-Homicide Data:\n",
            "   OBJECTID EVENT_UNIQUE_ID         REPORT_DATE            OCC_DATE  \\\n",
            "0         1  GO-20141260715 2014-01-01 05:00:00 2014-01-01 05:00:00   \n",
            "1         2  GO-20141260079 2014-01-01 05:00:00 2013-12-31 05:00:00   \n",
            "2         3  GO-20141260912 2014-01-01 05:00:00 2014-01-01 05:00:00   \n",
            "3         4  GO-20141260322 2014-01-01 05:00:00 2013-12-31 05:00:00   \n",
            "4         5  GO-20141260521 2014-01-01 05:00:00 2014-01-01 05:00:00   \n",
            "\n",
            "   REPORT_YEAR REPORT_MONTH  REPORT_DAY  REPORT_DOY  REPORT_DOW  REPORT_HOUR  \\\n",
            "0         2014      January           1           1  Wednesday             3   \n",
            "1         2014      January           1           1  Wednesday             1   \n",
            "2         2014      January           1           1  Wednesday             6   \n",
            "3         2014      January           1           1  Wednesday             7   \n",
            "4         2014      January           1           1  Wednesday             2   \n",
            "\n",
            "   ...              OFFENCE     MCI_CATEGORY  HOOD_158  \\\n",
            "0  ...              Assault          Assault       092   \n",
            "1  ...                  B&E  Break and Enter       070   \n",
            "2  ...  Robbery With Weapon          Robbery       078   \n",
            "3  ...                  B&E  Break and Enter       158   \n",
            "4  ...                  B&E  Break and Enter       081   \n",
            "\n",
            "             NEIGHBOURHOOD_158 HOOD_140                NEIGHBOURHOOD_140  \\\n",
            "0  Corso Italia-Davenport (92)      092      Corso Italia-Davenport (92)   \n",
            "1         South Riverdale (70)      070             South Riverdale (70)   \n",
            "2    Kensington-Chinatown (78)      078        Kensington-Chinatown (78)   \n",
            "3              Islington (158)      014  Islington-City Centre West (14)   \n",
            "4       Trinity-Bellwoods (81)      081           Trinity-Bellwoods (81)   \n",
            "\n",
            "  LONG_WGS84  LAT_WGS84             x             y  \n",
            "0 -79.455770  43.677775 -8.844976e+06  5.415712e+06  \n",
            "1 -79.341683  43.665011 -8.832276e+06  5.413747e+06  \n",
            "2 -79.401983  43.647598 -8.838988e+06  5.411068e+06  \n",
            "3 -79.554194  43.641775 -8.855932e+06  5.410172e+06  \n",
            "4 -79.412798  43.650928 -8.840192e+06  5.411580e+06  \n",
            "\n",
            "[5 rows x 31 columns]\n"
          ]
        }
      ]
    }
  ]
}